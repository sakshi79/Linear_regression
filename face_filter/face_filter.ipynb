{
 "cells": [
  {
   "cell_type": "code",
   "execution_count": 1,
   "id": "4358162c",
   "metadata": {},
   "outputs": [
    {
     "name": "stderr",
     "output_type": "stream",
     "text": [
      "C:\\Users\\Acer\\AppData\\Local\\Temp\\ipykernel_20648\\1687466567.py:30: DeprecationWarning: ANTIALIAS is deprecated and will be removed in Pillow 10 (2023-07-01). Use LANCZOS or Resampling.LANCZOS instead.\n",
      "  resized_mask = mask.resize((w,h), Image.ANTIALIAS)\n"
     ]
    }
   ],
   "source": [
    "import cv2\n",
    "from PIL import Image\n",
    "import numpy as np\n",
    "\n",
    "# filter image path\n",
    "maskPath = \"mask1.png\"\n",
    "# haarcascade path\n",
    "cascPath = \"haarcascade_frontalface_default.xml\"\n",
    "\n",
    "# cascade classifier object \n",
    "faceCascade = cv2.CascadeClassifier(cv2.data.haarcascades + cascPath)\n",
    "\n",
    "# Open mask as PIL image\n",
    "mask = Image.open(maskPath)\n",
    "\n",
    "def thug_mask(image):\n",
    "\n",
    "\n",
    "    # convert input image to grayscale\n",
    "    gray = cv2.cvtColor(image, cv2.COLOR_BGR2GRAY)\n",
    "\n",
    "    # detect faces in grayscale image\n",
    "    faces = faceCascade.detectMultiScale(gray, 1.15)\n",
    "\n",
    "    # convert cv2 imageto PIL image\n",
    "    background = Image.fromarray(image)\n",
    "\n",
    "    for (x,y,w,h) in faces:\n",
    "        # resize mask\n",
    "        resized_mask = mask.resize((w,h), Image.ANTIALIAS)\n",
    "        # define offset for mask\n",
    "        offset = (x,y)\n",
    "        # pask mask on background\n",
    "        background.paste(resized_mask, offset, mask=resized_mask)\n",
    "\n",
    "    # return background as cv2 image\n",
    "    return np.asarray(background)\n",
    "\n",
    "# VideoCapture object\n",
    "cap = cv2.VideoCapture(cv2.CAP_ANY)\n",
    "\n",
    "while True:\n",
    "    # read return value and frame\n",
    "    ret, frame = cap.read()\n",
    "\n",
    "    if ret == True:\n",
    "        # show frame with thug life mask\n",
    "        cv2.imshow('Live', thug_mask(frame))\n",
    "\n",
    "        # chck if esc key is pressed\n",
    "        if cv2.waitKey(1) == 27:\n",
    "            break\n",
    "\n",
    "# release cam\n",
    "cap.release()\n",
    "# destroy all open opencv windows\n",
    "cv2.destroyAllWindows()"
   ]
  },
  {
   "cell_type": "code",
   "execution_count": null,
   "id": "238028f0",
   "metadata": {},
   "outputs": [],
   "source": []
  }
 ],
 "metadata": {
  "kernelspec": {
   "display_name": "Python 3 (ipykernel)",
   "language": "python",
   "name": "python3"
  },
  "language_info": {
   "codemirror_mode": {
    "name": "ipython",
    "version": 3
   },
   "file_extension": ".py",
   "mimetype": "text/x-python",
   "name": "python",
   "nbconvert_exporter": "python",
   "pygments_lexer": "ipython3",
   "version": "3.10.9"
  }
 },
 "nbformat": 4,
 "nbformat_minor": 5
}
