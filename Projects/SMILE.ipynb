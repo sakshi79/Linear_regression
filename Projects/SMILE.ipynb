{
  "nbformat": 4,
  "nbformat_minor": 0,
  "metadata": {
    "colab": {
      "name": "SMILE.ipynb",
      "provenance": [],
      "authorship_tag": "ABX9TyOlmwpV+aNPi2nQgm/Myc6q",
      "include_colab_link": true
    },
    "kernelspec": {
      "name": "python3",
      "display_name": "Python 3"
    },
    "language_info": {
      "name": "python"
    }
  },
  "cells": [
    {
      "cell_type": "markdown",
      "metadata": {
        "id": "view-in-github",
        "colab_type": "text"
      },
      "source": [
        "<a href=\"https://colab.research.google.com/github/sakshi79/Machine_learning/blob/main/Projects/SMILE.ipynb\" target=\"_parent\"><img src=\"https://colab.research.google.com/assets/colab-badge.svg\" alt=\"Open In Colab\"/></a>"
      ]
    },
    {
      "cell_type": "markdown",
      "metadata": {
        "id": "sXUDsq7P6-yh"
      },
      "source": [
        "When Times are crazy, just smile!! 😀😀"
      ]
    },
    {
      "cell_type": "code",
      "metadata": {
        "id": "-cGIPryN643R"
      },
      "source": [
        "import numpy as np\n",
        "import matplotlib.pyplot as plt\n",
        "%matplotlib inline"
      ],
      "execution_count": 1,
      "outputs": []
    },
    {
      "cell_type": "code",
      "metadata": {
        "id": "5y_offDG7m9n"
      },
      "source": [
        "tiny_image = np.array([[0, 0, 0, 0, 0, 0, 0, 0],\n",
        "                       [0, 0, 255, 0, 0, 255, 0, 0],\n",
        "                       [0, 0, 0, 0, 0, 0, 0, 0],\n",
        "                       [0, 0, 0, 0, 0, 0, 0, 0],\n",
        "                       [0, 0, 0, 0, 0, 0, 0, 0],\n",
        "                       [0, 255, 0, 0, 0, 0, 255, 0],\n",
        "                       [0, 0, 255, 0, 0, 255, 0, 0],\n",
        "                       [0, 0, 0, 255, 255, 0, 0, 0],\n",
        "                       [0, 0, 0, 0, 0, 0, 0, 0]                       \n",
        "])"
      ],
      "execution_count": 3,
      "outputs": []
    },
    {
      "cell_type": "code",
      "metadata": {
        "colab": {
          "base_uri": "https://localhost:8080/",
          "height": 338
        },
        "id": "3DmtB3zX90DO",
        "outputId": "391275ad-d81c-4502-840e-f39abc86873d"
      },
      "source": [
        "plt.figure(figsize=(5,5))\n",
        "plt.imshow(tiny_image, cmap='gray')"
      ],
      "execution_count": 7,
      "outputs": [
        {
          "output_type": "execute_result",
          "data": {
            "text/plain": [
              "<matplotlib.image.AxesImage at 0x7f8fe3724690>"
            ]
          },
          "metadata": {},
          "execution_count": 7
        },
        {
          "output_type": "display_data",
          "data": {
            "image/png": "[encoded data removed]",
            "text/plain": [
              "<Figure size 360x360 with 1 Axes>"
            ]
          },
          "metadata": {
            "needs_background": "light"
          }
        }
      ]
    },
    {
      "cell_type": "code",
      "metadata": {
        "id": "oWVQMCid98j8"
      },
      "source": [
        ""
      ],
      "execution_count": null,
      "outputs": []
    }
  ]
}