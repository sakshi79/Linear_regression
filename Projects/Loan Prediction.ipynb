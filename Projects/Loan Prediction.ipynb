{
 "cells": [
  {
   "cell_type": "code",
   "execution_count": 1,
   "id": "b2dd1992",
   "metadata": {},
   "outputs": [],
   "source": [
    "import pandas as pd"
   ]
  },
  {
   "cell_type": "code",
   "execution_count": 2,
   "id": "469ec232",
   "metadata": {},
   "outputs": [],
   "source": [
    "data = pd.read_csv('loan_data.csv')"
   ]
  },
  {
   "cell_type": "code",
   "execution_count": 3,
   "id": "a50dbe91",
   "metadata": {},
   "outputs": [
    {
     "data": {
      "text/html": [
       "<div>\n",
       "<style scoped>\n",
       "    .dataframe tbody tr th:only-of-type {\n",
       "        vertical-align: middle;\n",
       "    }\n",
       "\n",
       "    .dataframe tbody tr th {\n",
       "        vertical-align: top;\n",
       "    }\n",
       "\n",
       "    .dataframe thead th {\n",
       "        text-align: right;\n",
       "    }\n",
       "</style>\n",
       "<table border=\"1\" class=\"dataframe\">\n",
       "  <thead>\n",
       "    <tr style=\"text-align: right;\">\n",
       "      <th></th>\n",
       "      <th>Loan_ID</th>\n",
       "      <th>Gender</th>\n",
       "      <th>Married</th>\n",
       "      <th>Dependents</th>\n",
       "      <th>Education</th>\n",
       "      <th>Self_Employed</th>\n",
       "      <th>ApplicantIncome</th>\n",
       "      <th>CoapplicantIncome</th>\n",
       "      <th>LoanAmount</th>\n",
       "      <th>Loan_Amount_Term</th>\n",
       "      <th>Credit_History</th>\n",
       "      <th>Property_Area</th>\n",
       "      <th>Loan_Status</th>\n",
       "    </tr>\n",
       "  </thead>\n",
       "  <tbody>\n",
       "    <tr>\n",
       "      <th>0</th>\n",
       "      <td>LP001002</td>\n",
       "      <td>Male</td>\n",
       "      <td>No</td>\n",
       "      <td>0</td>\n",
       "      <td>Graduate</td>\n",
       "      <td>No</td>\n",
       "      <td>5849</td>\n",
       "      <td>0.0</td>\n",
       "      <td>NaN</td>\n",
       "      <td>360.0</td>\n",
       "      <td>1.0</td>\n",
       "      <td>Urban</td>\n",
       "      <td>Y</td>\n",
       "    </tr>\n",
       "    <tr>\n",
       "      <th>1</th>\n",
       "      <td>LP001003</td>\n",
       "      <td>Male</td>\n",
       "      <td>Yes</td>\n",
       "      <td>1</td>\n",
       "      <td>Graduate</td>\n",
       "      <td>No</td>\n",
       "      <td>4583</td>\n",
       "      <td>1508.0</td>\n",
       "      <td>128.0</td>\n",
       "      <td>360.0</td>\n",
       "      <td>1.0</td>\n",
       "      <td>Rural</td>\n",
       "      <td>N</td>\n",
       "    </tr>\n",
       "    <tr>\n",
       "      <th>2</th>\n",
       "      <td>LP001005</td>\n",
       "      <td>Male</td>\n",
       "      <td>Yes</td>\n",
       "      <td>0</td>\n",
       "      <td>Graduate</td>\n",
       "      <td>Yes</td>\n",
       "      <td>3000</td>\n",
       "      <td>0.0</td>\n",
       "      <td>66.0</td>\n",
       "      <td>360.0</td>\n",
       "      <td>1.0</td>\n",
       "      <td>Urban</td>\n",
       "      <td>Y</td>\n",
       "    </tr>\n",
       "    <tr>\n",
       "      <th>3</th>\n",
       "      <td>LP001006</td>\n",
       "      <td>Male</td>\n",
       "      <td>Yes</td>\n",
       "      <td>0</td>\n",
       "      <td>Not Graduate</td>\n",
       "      <td>No</td>\n",
       "      <td>2583</td>\n",
       "      <td>2358.0</td>\n",
       "      <td>120.0</td>\n",
       "      <td>360.0</td>\n",
       "      <td>1.0</td>\n",
       "      <td>Urban</td>\n",
       "      <td>Y</td>\n",
       "    </tr>\n",
       "    <tr>\n",
       "      <th>4</th>\n",
       "      <td>LP001008</td>\n",
       "      <td>Male</td>\n",
       "      <td>No</td>\n",
       "      <td>0</td>\n",
       "      <td>Graduate</td>\n",
       "      <td>No</td>\n",
       "      <td>6000</td>\n",
       "      <td>0.0</td>\n",
       "      <td>141.0</td>\n",
       "      <td>360.0</td>\n",
       "      <td>1.0</td>\n",
       "      <td>Urban</td>\n",
       "      <td>Y</td>\n",
       "    </tr>\n",
       "  </tbody>\n",
       "</table>\n",
       "</div>"
      ],
      "text/plain": [
       "    Loan_ID Gender Married Dependents     Education Self_Employed  \\\n",
       "0  LP001002   Male      No          0      Graduate            No   \n",
       "1  LP001003   Male     Yes          1      Graduate            No   \n",
       "2  LP001005   Male     Yes          0      Graduate           Yes   \n",
       "3  LP001006   Male     Yes          0  Not Graduate            No   \n",
       "4  LP001008   Male      No          0      Graduate            No   \n",
       "\n",
       "   ApplicantIncome  CoapplicantIncome  LoanAmount  Loan_Amount_Term  \\\n",
       "0             5849                0.0         NaN             360.0   \n",
       "1             4583             1508.0       128.0             360.0   \n",
       "2             3000                0.0        66.0             360.0   \n",
       "3             2583             2358.0       120.0             360.0   \n",
       "4             6000                0.0       141.0             360.0   \n",
       "\n",
       "   Credit_History Property_Area Loan_Status  \n",
       "0             1.0         Urban           Y  \n",
       "1             1.0         Rural           N  \n",
       "2             1.0         Urban           Y  \n",
       "3             1.0         Urban           Y  \n",
       "4             1.0         Urban           Y  "
      ]
     },
     "execution_count": 3,
     "metadata": {},
     "output_type": "execute_result"
    }
   ],
   "source": [
    "data.head()"
   ]
  },
  {
   "cell_type": "code",
   "execution_count": 4,
   "id": "96db9f5a",
   "metadata": {},
   "outputs": [
    {
     "data": {
      "text/plain": [
       "(614, 13)"
      ]
     },
     "execution_count": 4,
     "metadata": {},
     "output_type": "execute_result"
    }
   ],
   "source": [
    "data.shape"
   ]
  },
  {
   "cell_type": "code",
   "execution_count": 5,
   "id": "c9505731",
   "metadata": {},
   "outputs": [
    {
     "data": {
      "text/plain": [
       "Loan_ID               0\n",
       "Gender               13\n",
       "Married               3\n",
       "Dependents           15\n",
       "Education             0\n",
       "Self_Employed        32\n",
       "ApplicantIncome       0\n",
       "CoapplicantIncome     0\n",
       "LoanAmount           22\n",
       "Loan_Amount_Term     14\n",
       "Credit_History       50\n",
       "Property_Area         0\n",
       "Loan_Status           0\n",
       "dtype: int64"
      ]
     },
     "execution_count": 5,
     "metadata": {},
     "output_type": "execute_result"
    }
   ],
   "source": [
    "data.isnull().sum()"
   ]
  },
  {
   "cell_type": "code",
   "execution_count": 6,
   "id": "88c58d01",
   "metadata": {},
   "outputs": [
    {
     "data": {
      "text/plain": [
       "Loan_ID               object\n",
       "Gender                object\n",
       "Married               object\n",
       "Dependents            object\n",
       "Education             object\n",
       "Self_Employed         object\n",
       "ApplicantIncome        int64\n",
       "CoapplicantIncome    float64\n",
       "LoanAmount           float64\n",
       "Loan_Amount_Term     float64\n",
       "Credit_History       float64\n",
       "Property_Area         object\n",
       "Loan_Status           object\n",
       "dtype: object"
      ]
     },
     "execution_count": 6,
     "metadata": {},
     "output_type": "execute_result"
    }
   ],
   "source": [
    "data.dtypes"
   ]
  },
  {
   "cell_type": "code",
   "execution_count": 7,
   "id": "bae0f632",
   "metadata": {},
   "outputs": [],
   "source": [
    "# Filling missing values\n",
    "data['Gender'].fillna(data['Gender'].mode()[0], inplace=True)\n",
    "data['Married'].fillna(data['Married'].mode()[0], inplace=True)\n",
    "data['Dependents'].fillna(data['Dependents'].mode()[0], inplace=True)\n",
    "data['Self_Employed'].fillna(data['Self_Employed'].mode()[0], inplace=True)\n",
    "data['Loan_Amount_Term'].fillna(data['Loan_Amount_Term'].mode()[0], inplace=True)\n",
    "data['Credit_History'].fillna(data['Credit_History'].mode()[0], inplace=True)\n",
    "data['LoanAmount'].fillna(data['LoanAmount'].mean(), inplace=True)"
   ]
  },
  {
   "cell_type": "code",
   "execution_count": 8,
   "id": "538307d8",
   "metadata": {},
   "outputs": [
    {
     "data": {
      "text/plain": [
       "Loan_ID              0\n",
       "Gender               0\n",
       "Married              0\n",
       "Dependents           0\n",
       "Education            0\n",
       "Self_Employed        0\n",
       "ApplicantIncome      0\n",
       "CoapplicantIncome    0\n",
       "LoanAmount           0\n",
       "Loan_Amount_Term     0\n",
       "Credit_History       0\n",
       "Property_Area        0\n",
       "Loan_Status          0\n",
       "dtype: int64"
      ]
     },
     "execution_count": 8,
     "metadata": {},
     "output_type": "execute_result"
    }
   ],
   "source": [
    "data.isnull().sum()"
   ]
  },
  {
   "cell_type": "code",
   "execution_count": 9,
   "id": "cc8f9a52",
   "metadata": {},
   "outputs": [
    {
     "data": {
      "text/plain": [
       "array(['0', '1', '2', '3+'], dtype=object)"
      ]
     },
     "execution_count": 9,
     "metadata": {},
     "output_type": "execute_result"
    }
   ],
   "source": [
    "pd.unique(data['Dependents'])"
   ]
  },
  {
   "cell_type": "code",
   "execution_count": 10,
   "id": "052a50ec",
   "metadata": {},
   "outputs": [
    {
     "data": {
      "text/plain": [
       "array(['Graduate', 'Not Graduate'], dtype=object)"
      ]
     },
     "execution_count": 10,
     "metadata": {},
     "output_type": "execute_result"
    }
   ],
   "source": [
    "pd.unique(data['Education'])"
   ]
  },
  {
   "cell_type": "code",
   "execution_count": 11,
   "id": "6a7a024f",
   "metadata": {},
   "outputs": [
    {
     "data": {
      "text/plain": [
       "array(['Urban', 'Rural', 'Semiurban'], dtype=object)"
      ]
     },
     "execution_count": 11,
     "metadata": {},
     "output_type": "execute_result"
    }
   ],
   "source": [
    "pd.unique(data['Property_Area'])"
   ]
  },
  {
   "cell_type": "code",
   "execution_count": 12,
   "id": "58e16138",
   "metadata": {},
   "outputs": [],
   "source": [
    "# Converting categories to numbers\n",
    "data['Gender'] = data['Gender'].map({'Male':0, 'Female':1})\n",
    "data['Married'] = data['Married'].map({'No':0, 'Yes':1})\n",
    "data['Dependents'] = data['Dependents'].map({'0':0, '1':1, '2':2, '3+':3})\n",
    "data['Education'] = data['Education'].map({'Graduate':0, 'Not Graduate':1})\n",
    "data['Self_Employed'] = data['Self_Employed'].map({'No':0, 'Yes':1})\n",
    "data['Property_Area'] = data['Property_Area'].map({'Urban':0, 'Rural':1, 'Semiurban':2})\n",
    "data['Loan_Status'] = data['Loan_Status'].map({'N': 0, 'Y': 1})"
   ]
  },
  {
   "cell_type": "code",
   "execution_count": 13,
   "id": "91acbbe1",
   "metadata": {},
   "outputs": [
    {
     "data": {
      "text/html": [
       "<div>\n",
       "<style scoped>\n",
       "    .dataframe tbody tr th:only-of-type {\n",
       "        vertical-align: middle;\n",
       "    }\n",
       "\n",
       "    .dataframe tbody tr th {\n",
       "        vertical-align: top;\n",
       "    }\n",
       "\n",
       "    .dataframe thead th {\n",
       "        text-align: right;\n",
       "    }\n",
       "</style>\n",
       "<table border=\"1\" class=\"dataframe\">\n",
       "  <thead>\n",
       "    <tr style=\"text-align: right;\">\n",
       "      <th></th>\n",
       "      <th>Loan_ID</th>\n",
       "      <th>Gender</th>\n",
       "      <th>Married</th>\n",
       "      <th>Dependents</th>\n",
       "      <th>Education</th>\n",
       "      <th>Self_Employed</th>\n",
       "      <th>ApplicantIncome</th>\n",
       "      <th>CoapplicantIncome</th>\n",
       "      <th>LoanAmount</th>\n",
       "      <th>Loan_Amount_Term</th>\n",
       "      <th>Credit_History</th>\n",
       "      <th>Property_Area</th>\n",
       "      <th>Loan_Status</th>\n",
       "    </tr>\n",
       "  </thead>\n",
       "  <tbody>\n",
       "    <tr>\n",
       "      <th>0</th>\n",
       "      <td>LP001002</td>\n",
       "      <td>0</td>\n",
       "      <td>0</td>\n",
       "      <td>0</td>\n",
       "      <td>0</td>\n",
       "      <td>0</td>\n",
       "      <td>5849</td>\n",
       "      <td>0.0</td>\n",
       "      <td>146.412162</td>\n",
       "      <td>360.0</td>\n",
       "      <td>1.0</td>\n",
       "      <td>0</td>\n",
       "      <td>1</td>\n",
       "    </tr>\n",
       "    <tr>\n",
       "      <th>1</th>\n",
       "      <td>LP001003</td>\n",
       "      <td>0</td>\n",
       "      <td>1</td>\n",
       "      <td>1</td>\n",
       "      <td>0</td>\n",
       "      <td>0</td>\n",
       "      <td>4583</td>\n",
       "      <td>1508.0</td>\n",
       "      <td>128.000000</td>\n",
       "      <td>360.0</td>\n",
       "      <td>1.0</td>\n",
       "      <td>1</td>\n",
       "      <td>0</td>\n",
       "    </tr>\n",
       "    <tr>\n",
       "      <th>2</th>\n",
       "      <td>LP001005</td>\n",
       "      <td>0</td>\n",
       "      <td>1</td>\n",
       "      <td>0</td>\n",
       "      <td>0</td>\n",
       "      <td>1</td>\n",
       "      <td>3000</td>\n",
       "      <td>0.0</td>\n",
       "      <td>66.000000</td>\n",
       "      <td>360.0</td>\n",
       "      <td>1.0</td>\n",
       "      <td>0</td>\n",
       "      <td>1</td>\n",
       "    </tr>\n",
       "    <tr>\n",
       "      <th>3</th>\n",
       "      <td>LP001006</td>\n",
       "      <td>0</td>\n",
       "      <td>1</td>\n",
       "      <td>0</td>\n",
       "      <td>1</td>\n",
       "      <td>0</td>\n",
       "      <td>2583</td>\n",
       "      <td>2358.0</td>\n",
       "      <td>120.000000</td>\n",
       "      <td>360.0</td>\n",
       "      <td>1.0</td>\n",
       "      <td>0</td>\n",
       "      <td>1</td>\n",
       "    </tr>\n",
       "    <tr>\n",
       "      <th>4</th>\n",
       "      <td>LP001008</td>\n",
       "      <td>0</td>\n",
       "      <td>0</td>\n",
       "      <td>0</td>\n",
       "      <td>0</td>\n",
       "      <td>0</td>\n",
       "      <td>6000</td>\n",
       "      <td>0.0</td>\n",
       "      <td>141.000000</td>\n",
       "      <td>360.0</td>\n",
       "      <td>1.0</td>\n",
       "      <td>0</td>\n",
       "      <td>1</td>\n",
       "    </tr>\n",
       "  </tbody>\n",
       "</table>\n",
       "</div>"
      ],
      "text/plain": [
       "    Loan_ID  Gender  Married  Dependents  Education  Self_Employed  \\\n",
       "0  LP001002       0        0           0          0              0   \n",
       "1  LP001003       0        1           1          0              0   \n",
       "2  LP001005       0        1           0          0              1   \n",
       "3  LP001006       0        1           0          1              0   \n",
       "4  LP001008       0        0           0          0              0   \n",
       "\n",
       "   ApplicantIncome  CoapplicantIncome  LoanAmount  Loan_Amount_Term  \\\n",
       "0             5849                0.0  146.412162             360.0   \n",
       "1             4583             1508.0  128.000000             360.0   \n",
       "2             3000                0.0   66.000000             360.0   \n",
       "3             2583             2358.0  120.000000             360.0   \n",
       "4             6000                0.0  141.000000             360.0   \n",
       "\n",
       "   Credit_History  Property_Area  Loan_Status  \n",
       "0             1.0              0            1  \n",
       "1             1.0              1            0  \n",
       "2             1.0              0            1  \n",
       "3             1.0              0            1  \n",
       "4             1.0              0            1  "
      ]
     },
     "execution_count": 13,
     "metadata": {},
     "output_type": "execute_result"
    }
   ],
   "source": [
    "data.head()"
   ]
  },
  {
   "cell_type": "code",
   "execution_count": 14,
   "id": "42aada45",
   "metadata": {},
   "outputs": [],
   "source": [
    "# Normalization of variables\n",
    "for i in data.columns[1:]:\n",
    "    data[i] = (data[i] - data[i].min())/(data[i].max() - data[i].min())\n",
    "    "
   ]
  },
  {
   "cell_type": "code",
   "execution_count": 15,
   "id": "faba0d5c",
   "metadata": {},
   "outputs": [
    {
     "data": {
      "text/html": [
       "<div>\n",
       "<style scoped>\n",
       "    .dataframe tbody tr th:only-of-type {\n",
       "        vertical-align: middle;\n",
       "    }\n",
       "\n",
       "    .dataframe tbody tr th {\n",
       "        vertical-align: top;\n",
       "    }\n",
       "\n",
       "    .dataframe thead th {\n",
       "        text-align: right;\n",
       "    }\n",
       "</style>\n",
       "<table border=\"1\" class=\"dataframe\">\n",
       "  <thead>\n",
       "    <tr style=\"text-align: right;\">\n",
       "      <th></th>\n",
       "      <th>Loan_ID</th>\n",
       "      <th>Gender</th>\n",
       "      <th>Married</th>\n",
       "      <th>Dependents</th>\n",
       "      <th>Education</th>\n",
       "      <th>Self_Employed</th>\n",
       "      <th>ApplicantIncome</th>\n",
       "      <th>CoapplicantIncome</th>\n",
       "      <th>LoanAmount</th>\n",
       "      <th>Loan_Amount_Term</th>\n",
       "      <th>Credit_History</th>\n",
       "      <th>Property_Area</th>\n",
       "      <th>Loan_Status</th>\n",
       "    </tr>\n",
       "  </thead>\n",
       "  <tbody>\n",
       "    <tr>\n",
       "      <th>0</th>\n",
       "      <td>LP001002</td>\n",
       "      <td>0.0</td>\n",
       "      <td>0.0</td>\n",
       "      <td>0.000000</td>\n",
       "      <td>0.0</td>\n",
       "      <td>0.0</td>\n",
       "      <td>0.070489</td>\n",
       "      <td>0.000000</td>\n",
       "      <td>0.198860</td>\n",
       "      <td>0.74359</td>\n",
       "      <td>1.0</td>\n",
       "      <td>0.0</td>\n",
       "      <td>1.0</td>\n",
       "    </tr>\n",
       "    <tr>\n",
       "      <th>1</th>\n",
       "      <td>LP001003</td>\n",
       "      <td>0.0</td>\n",
       "      <td>1.0</td>\n",
       "      <td>0.333333</td>\n",
       "      <td>0.0</td>\n",
       "      <td>0.0</td>\n",
       "      <td>0.054830</td>\n",
       "      <td>0.036192</td>\n",
       "      <td>0.172214</td>\n",
       "      <td>0.74359</td>\n",
       "      <td>1.0</td>\n",
       "      <td>0.5</td>\n",
       "      <td>0.0</td>\n",
       "    </tr>\n",
       "    <tr>\n",
       "      <th>2</th>\n",
       "      <td>LP001005</td>\n",
       "      <td>0.0</td>\n",
       "      <td>1.0</td>\n",
       "      <td>0.000000</td>\n",
       "      <td>0.0</td>\n",
       "      <td>1.0</td>\n",
       "      <td>0.035250</td>\n",
       "      <td>0.000000</td>\n",
       "      <td>0.082489</td>\n",
       "      <td>0.74359</td>\n",
       "      <td>1.0</td>\n",
       "      <td>0.0</td>\n",
       "      <td>1.0</td>\n",
       "    </tr>\n",
       "    <tr>\n",
       "      <th>3</th>\n",
       "      <td>LP001006</td>\n",
       "      <td>0.0</td>\n",
       "      <td>1.0</td>\n",
       "      <td>0.000000</td>\n",
       "      <td>1.0</td>\n",
       "      <td>0.0</td>\n",
       "      <td>0.030093</td>\n",
       "      <td>0.056592</td>\n",
       "      <td>0.160637</td>\n",
       "      <td>0.74359</td>\n",
       "      <td>1.0</td>\n",
       "      <td>0.0</td>\n",
       "      <td>1.0</td>\n",
       "    </tr>\n",
       "    <tr>\n",
       "      <th>4</th>\n",
       "      <td>LP001008</td>\n",
       "      <td>0.0</td>\n",
       "      <td>0.0</td>\n",
       "      <td>0.000000</td>\n",
       "      <td>0.0</td>\n",
       "      <td>0.0</td>\n",
       "      <td>0.072356</td>\n",
       "      <td>0.000000</td>\n",
       "      <td>0.191027</td>\n",
       "      <td>0.74359</td>\n",
       "      <td>1.0</td>\n",
       "      <td>0.0</td>\n",
       "      <td>1.0</td>\n",
       "    </tr>\n",
       "  </tbody>\n",
       "</table>\n",
       "</div>"
      ],
      "text/plain": [
       "    Loan_ID  Gender  Married  Dependents  Education  Self_Employed  \\\n",
       "0  LP001002     0.0      0.0    0.000000        0.0            0.0   \n",
       "1  LP001003     0.0      1.0    0.333333        0.0            0.0   \n",
       "2  LP001005     0.0      1.0    0.000000        0.0            1.0   \n",
       "3  LP001006     0.0      1.0    0.000000        1.0            0.0   \n",
       "4  LP001008     0.0      0.0    0.000000        0.0            0.0   \n",
       "\n",
       "   ApplicantIncome  CoapplicantIncome  LoanAmount  Loan_Amount_Term  \\\n",
       "0         0.070489           0.000000    0.198860           0.74359   \n",
       "1         0.054830           0.036192    0.172214           0.74359   \n",
       "2         0.035250           0.000000    0.082489           0.74359   \n",
       "3         0.030093           0.056592    0.160637           0.74359   \n",
       "4         0.072356           0.000000    0.191027           0.74359   \n",
       "\n",
       "   Credit_History  Property_Area  Loan_Status  \n",
       "0             1.0            0.0          1.0  \n",
       "1             1.0            0.5          0.0  \n",
       "2             1.0            0.0          1.0  \n",
       "3             1.0            0.0          1.0  \n",
       "4             1.0            0.0          1.0  "
      ]
     },
     "execution_count": 15,
     "metadata": {},
     "output_type": "execute_result"
    }
   ],
   "source": [
    "data.head()"
   ]
  },
  {
   "cell_type": "markdown",
   "id": "439dc3e3",
   "metadata": {},
   "source": [
    "## Building model"
   ]
  },
  {
   "cell_type": "code",
   "execution_count": 16,
   "id": "0ca7865c",
   "metadata": {},
   "outputs": [],
   "source": [
    "import numpy as np\n",
    "import sklearn\n",
    "from sklearn.model_selection import train_test_split\n",
    "from sklearn.metrics import accuracy_score\n",
    "import matplotlib.pyplot as plt\n",
    "%matplotlib inline"
   ]
  },
  {
   "cell_type": "code",
   "execution_count": 17,
   "id": "85c7c149",
   "metadata": {},
   "outputs": [],
   "source": [
    "data = data.drop('Loan_ID', axis=1)\n",
    "X = data.drop('Loan_Status', axis= 1)\n",
    "y = data['Loan_Status']"
   ]
  },
  {
   "cell_type": "code",
   "execution_count": 18,
   "id": "0ba09602",
   "metadata": {},
   "outputs": [
    {
     "data": {
      "text/plain": [
       "((614, 11), (614,))"
      ]
     },
     "execution_count": 18,
     "metadata": {},
     "output_type": "execute_result"
    }
   ],
   "source": [
    "X.shape, y.shape"
   ]
  },
  {
   "cell_type": "code",
   "execution_count": 19,
   "id": "c08b0b84",
   "metadata": {},
   "outputs": [],
   "source": [
    "X_train, X_test, y_train, y_test = train_test_split(X, y, stratify = data['Loan_Status'], random_state=10, test_size=0.2)"
   ]
  },
  {
   "cell_type": "code",
   "execution_count": 20,
   "id": "eaebada7",
   "metadata": {},
   "outputs": [],
   "source": [
    "import keras\n",
    "import tensorflow as tf"
   ]
  },
  {
   "cell_type": "code",
   "execution_count": 21,
   "id": "47c06ba3",
   "metadata": {},
   "outputs": [],
   "source": [
    "from keras.models import Sequential"
   ]
  },
  {
   "cell_type": "code",
   "execution_count": 22,
   "id": "4e4e2112",
   "metadata": {},
   "outputs": [],
   "source": [
    "from keras.layers import InputLayer, Dense"
   ]
  },
  {
   "cell_type": "code",
   "execution_count": 23,
   "id": "95a9813e",
   "metadata": {},
   "outputs": [],
   "source": [
    "# Network architecture\n",
    "input_neurons = X_train.shape[1]\n",
    "output_neurons = 1 # Binary Classification\n",
    "# Taking 2 hidden layers\n",
    "# Number of neurons in each hidden layer:\n",
    "hidden_neurons = [10, 5]\n",
    "\n",
    "# Model architecture\n",
    "model = Sequential()\n",
    "model.add(InputLayer(input_shape = input_neurons))\n",
    "model.add(Dense(units = hidden_neurons[0], activation = 'relu'))\n",
    "model.add(Dense(units = hidden_neurons[1], activation = 'relu'))\n",
    "model.add(Dense(units=output_neurons, activation='sigmoid'))"
   ]
  },
  {
   "cell_type": "code",
   "execution_count": 24,
   "id": "12cda0f9",
   "metadata": {},
   "outputs": [
    {
     "name": "stdout",
     "output_type": "stream",
     "text": [
      "Model: \"sequential\"\n",
      "_________________________________________________________________\n",
      "Layer (type)                 Output Shape              Param #   \n",
      "=================================================================\n",
      "dense (Dense)                (None, 10)                120       \n",
      "_________________________________________________________________\n",
      "dense_1 (Dense)              (None, 5)                 55        \n",
      "_________________________________________________________________\n",
      "dense_2 (Dense)              (None, 1)                 6         \n",
      "=================================================================\n",
      "Total params: 181\n",
      "Trainable params: 181\n",
      "Non-trainable params: 0\n",
      "_________________________________________________________________\n"
     ]
    }
   ],
   "source": [
    "model.summary()"
   ]
  },
  {
   "cell_type": "code",
   "execution_count": 25,
   "id": "7082508b",
   "metadata": {},
   "outputs": [
    {
     "name": "stdout",
     "output_type": "stream",
     "text": [
      "Model: \"sequential\"\n",
      "_________________________________________________________________\n",
      "Layer (type)                 Output Shape              Param #   \n",
      "=================================================================\n",
      "dense (Dense)                (None, 10)                120       \n",
      "_________________________________________________________________\n",
      "dense_1 (Dense)              (None, 5)                 55        \n",
      "_________________________________________________________________\n",
      "dense_2 (Dense)              (None, 1)                 6         \n",
      "=================================================================\n",
      "Total params: 181\n",
      "Trainable params: 181\n",
      "Non-trainable params: 0\n",
      "_________________________________________________________________\n"
     ]
    }
   ],
   "source": [
    "model.summary()"
   ]
  },
  {
   "cell_type": "code",
   "execution_count": 26,
   "id": "f393ffab",
   "metadata": {},
   "outputs": [],
   "source": [
    "model.compile(loss='binary_crossentropy',optimizer='Adam',metrics=['accuracy'])"
   ]
  },
  {
   "cell_type": "code",
   "execution_count": 27,
   "id": "aa70716d",
   "metadata": {},
   "outputs": [
    {
     "name": "stdout",
     "output_type": "stream",
     "text": [
      "Epoch 1/75\n",
      "16/16 [==============================] - 0s 10ms/step - loss: 0.6376 - accuracy: 0.6864 - val_loss: 0.6203 - val_accuracy: 0.6911\n",
      "Epoch 2/75\n",
      "16/16 [==============================] - ETA: 0s - loss: 0.5458 - accuracy: 0.81 - 0s 1ms/step - loss: 0.6329 - accuracy: 0.6864 - val_loss: 0.6175 - val_accuracy: 0.6911\n",
      "Epoch 3/75\n",
      "16/16 [==============================] - 0s 1ms/step - loss: 0.6296 - accuracy: 0.6864 - val_loss: 0.6150 - val_accuracy: 0.6911\n",
      "Epoch 4/75\n",
      "16/16 [==============================] - 0s 2ms/step - loss: 0.6264 - accuracy: 0.6864 - val_loss: 0.6131 - val_accuracy: 0.6911\n",
      "Epoch 5/75\n",
      "16/16 [==============================] - 0s 2ms/step - loss: 0.6238 - accuracy: 0.6864 - val_loss: 0.6109 - val_accuracy: 0.6911\n",
      "Epoch 6/75\n",
      "16/16 [==============================] - 0s 941us/step - loss: 0.6212 - accuracy: 0.6864 - val_loss: 0.6090 - val_accuracy: 0.6911\n",
      "Epoch 7/75\n",
      "16/16 [==============================] - 0s 2ms/step - loss: 0.6189 - accuracy: 0.6864 - val_loss: 0.6070 - val_accuracy: 0.6911\n",
      "Epoch 8/75\n",
      "16/16 [==============================] - 0s 2ms/step - loss: 0.6169 - accuracy: 0.6864 - val_loss: 0.6053 - val_accuracy: 0.6911\n",
      "Epoch 9/75\n",
      "16/16 [==============================] - 0s 2ms/step - loss: 0.6143 - accuracy: 0.6864 - val_loss: 0.6035 - val_accuracy: 0.6911\n",
      "Epoch 10/75\n",
      "16/16 [==============================] - 0s 2ms/step - loss: 0.6123 - accuracy: 0.6864 - val_loss: 0.6015 - val_accuracy: 0.6911\n",
      "Epoch 11/75\n",
      "16/16 [==============================] - 0s 2ms/step - loss: 0.6097 - accuracy: 0.6864 - val_loss: 0.5995 - val_accuracy: 0.6911\n",
      "Epoch 12/75\n",
      "16/16 [==============================] - 0s 2ms/step - loss: 0.6075 - accuracy: 0.6864 - val_loss: 0.5977 - val_accuracy: 0.6911\n",
      "Epoch 13/75\n",
      "16/16 [==============================] - 0s 2ms/step - loss: 0.6048 - accuracy: 0.6864 - val_loss: 0.5954 - val_accuracy: 0.6911\n",
      "Epoch 14/75\n",
      "16/16 [==============================] - 0s 2ms/step - loss: 0.6017 - accuracy: 0.6864 - val_loss: 0.5931 - val_accuracy: 0.6911\n",
      "Epoch 15/75\n",
      "16/16 [==============================] - 0s 2ms/step - loss: 0.5983 - accuracy: 0.6864 - val_loss: 0.5902 - val_accuracy: 0.6911\n",
      "Epoch 16/75\n",
      "16/16 [==============================] - 0s 2ms/step - loss: 0.5950 - accuracy: 0.6864 - val_loss: 0.5872 - val_accuracy: 0.6911\n",
      "Epoch 17/75\n",
      "16/16 [==============================] - 0s 2ms/step - loss: 0.5903 - accuracy: 0.6864 - val_loss: 0.5828 - val_accuracy: 0.6911\n",
      "Epoch 18/75\n",
      "16/16 [==============================] - 0s 1ms/step - loss: 0.5860 - accuracy: 0.6864 - val_loss: 0.5784 - val_accuracy: 0.6911\n",
      "Epoch 19/75\n",
      "16/16 [==============================] - 0s 2ms/step - loss: 0.5808 - accuracy: 0.6864 - val_loss: 0.5746 - val_accuracy: 0.6911\n",
      "Epoch 20/75\n",
      "16/16 [==============================] - 0s 1ms/step - loss: 0.5759 - accuracy: 0.6864 - val_loss: 0.5704 - val_accuracy: 0.6911\n",
      "Epoch 21/75\n",
      "16/16 [==============================] - 0s 1ms/step - loss: 0.5689 - accuracy: 0.6884 - val_loss: 0.5654 - val_accuracy: 0.6911\n",
      "Epoch 22/75\n",
      "16/16 [==============================] - 0s 1ms/step - loss: 0.5619 - accuracy: 0.6945 - val_loss: 0.5615 - val_accuracy: 0.7154\n",
      "Epoch 23/75\n",
      "16/16 [==============================] - 0s 2ms/step - loss: 0.5551 - accuracy: 0.7108 - val_loss: 0.5566 - val_accuracy: 0.7154\n",
      "Epoch 24/75\n",
      "16/16 [==============================] - 0s 2ms/step - loss: 0.5490 - accuracy: 0.7251 - val_loss: 0.5512 - val_accuracy: 0.7154\n",
      "Epoch 25/75\n",
      "16/16 [==============================] - 0s 2ms/step - loss: 0.5443 - accuracy: 0.7332 - val_loss: 0.5466 - val_accuracy: 0.7317\n",
      "Epoch 26/75\n",
      "16/16 [==============================] - 0s 2ms/step - loss: 0.5379 - accuracy: 0.7556 - val_loss: 0.5429 - val_accuracy: 0.7642\n",
      "Epoch 27/75\n",
      "16/16 [==============================] - 0s 2ms/step - loss: 0.5338 - accuracy: 0.7699 - val_loss: 0.5382 - val_accuracy: 0.7724\n",
      "Epoch 28/75\n",
      "16/16 [==============================] - 0s 2ms/step - loss: 0.5295 - accuracy: 0.7699 - val_loss: 0.5344 - val_accuracy: 0.7805\n",
      "Epoch 29/75\n",
      "16/16 [==============================] - 0s 2ms/step - loss: 0.5258 - accuracy: 0.7902 - val_loss: 0.5310 - val_accuracy: 0.7967\n",
      "Epoch 30/75\n",
      "16/16 [==============================] - 0s 2ms/step - loss: 0.5212 - accuracy: 0.7902 - val_loss: 0.5263 - val_accuracy: 0.8130\n",
      "Epoch 31/75\n",
      "16/16 [==============================] - 0s 2ms/step - loss: 0.5176 - accuracy: 0.8065 - val_loss: 0.5234 - val_accuracy: 0.8130\n",
      "Epoch 32/75\n",
      "16/16 [==============================] - 0s 2ms/step - loss: 0.5136 - accuracy: 0.8065 - val_loss: 0.5197 - val_accuracy: 0.8130\n",
      "Epoch 33/75\n",
      "16/16 [==============================] - 0s 2ms/step - loss: 0.5100 - accuracy: 0.8086 - val_loss: 0.5164 - val_accuracy: 0.8130\n",
      "Epoch 34/75\n",
      "16/16 [==============================] - 0s 2ms/step - loss: 0.5067 - accuracy: 0.8086 - val_loss: 0.5126 - val_accuracy: 0.8130\n",
      "Epoch 35/75\n",
      "16/16 [==============================] - 0s 2ms/step - loss: 0.5039 - accuracy: 0.8086 - val_loss: 0.5095 - val_accuracy: 0.8130\n",
      "Epoch 36/75\n",
      "16/16 [==============================] - 0s 2ms/step - loss: 0.5002 - accuracy: 0.8086 - val_loss: 0.5077 - val_accuracy: 0.8130\n",
      "Epoch 37/75\n",
      "16/16 [==============================] - 0s 1ms/step - loss: 0.4978 - accuracy: 0.8086 - val_loss: 0.5054 - val_accuracy: 0.8130\n",
      "Epoch 38/75\n",
      "16/16 [==============================] - 0s 1ms/step - loss: 0.4955 - accuracy: 0.8086 - val_loss: 0.5031 - val_accuracy: 0.8130\n",
      "Epoch 39/75\n",
      "16/16 [==============================] - 0s 2ms/step - loss: 0.4930 - accuracy: 0.8086 - val_loss: 0.5013 - val_accuracy: 0.8130\n",
      "Epoch 40/75\n",
      "16/16 [==============================] - 0s 2ms/step - loss: 0.4911 - accuracy: 0.8086 - val_loss: 0.5000 - val_accuracy: 0.8130\n",
      "Epoch 41/75\n",
      "16/16 [==============================] - 0s 2ms/step - loss: 0.4893 - accuracy: 0.8086 - val_loss: 0.4980 - val_accuracy: 0.8130\n",
      "Epoch 42/75\n",
      "16/16 [==============================] - 0s 2ms/step - loss: 0.4873 - accuracy: 0.8086 - val_loss: 0.4960 - val_accuracy: 0.8130\n",
      "Epoch 43/75\n",
      "16/16 [==============================] - 0s 2ms/step - loss: 0.4856 - accuracy: 0.8086 - val_loss: 0.4956 - val_accuracy: 0.8130\n",
      "Epoch 44/75\n",
      "16/16 [==============================] - 0s 882us/step - loss: 0.4838 - accuracy: 0.8086 - val_loss: 0.4943 - val_accuracy: 0.8130\n",
      "Epoch 45/75\n",
      "16/16 [==============================] - 0s 1ms/step - loss: 0.4830 - accuracy: 0.8086 - val_loss: 0.4923 - val_accuracy: 0.8130\n",
      "Epoch 46/75\n",
      "16/16 [==============================] - 0s 2ms/step - loss: 0.4819 - accuracy: 0.8086 - val_loss: 0.4916 - val_accuracy: 0.8130\n",
      "Epoch 47/75\n",
      "16/16 [==============================] - 0s 2ms/step - loss: 0.4792 - accuracy: 0.8086 - val_loss: 0.4896 - val_accuracy: 0.8130\n",
      "Epoch 48/75\n",
      "16/16 [==============================] - 0s 2ms/step - loss: 0.4786 - accuracy: 0.8086 - val_loss: 0.4883 - val_accuracy: 0.8130\n",
      "Epoch 49/75\n",
      "16/16 [==============================] - 0s 2ms/step - loss: 0.4776 - accuracy: 0.8086 - val_loss: 0.4882 - val_accuracy: 0.8130\n",
      "Epoch 50/75\n",
      "16/16 [==============================] - 0s 2ms/step - loss: 0.4769 - accuracy: 0.8086 - val_loss: 0.4865 - val_accuracy: 0.8130\n",
      "Epoch 51/75\n",
      "16/16 [==============================] - 0s 2ms/step - loss: 0.4764 - accuracy: 0.8086 - val_loss: 0.4868 - val_accuracy: 0.8130\n",
      "Epoch 52/75\n",
      "16/16 [==============================] - 0s 2ms/step - loss: 0.4751 - accuracy: 0.8086 - val_loss: 0.4846 - val_accuracy: 0.8130\n",
      "Epoch 53/75\n",
      "16/16 [==============================] - 0s 2ms/step - loss: 0.4738 - accuracy: 0.8086 - val_loss: 0.4844 - val_accuracy: 0.8130\n",
      "Epoch 54/75\n",
      "16/16 [==============================] - 0s 2ms/step - loss: 0.4743 - accuracy: 0.8086 - val_loss: 0.4840 - val_accuracy: 0.8130\n",
      "Epoch 55/75\n",
      "16/16 [==============================] - 0s 2ms/step - loss: 0.4728 - accuracy: 0.8086 - val_loss: 0.4839 - val_accuracy: 0.8130\n",
      "Epoch 56/75\n",
      "16/16 [==============================] - 0s 2ms/step - loss: 0.4720 - accuracy: 0.8086 - val_loss: 0.4818 - val_accuracy: 0.8130\n",
      "Epoch 57/75\n",
      "16/16 [==============================] - 0s 2ms/step - loss: 0.4715 - accuracy: 0.8086 - val_loss: 0.4809 - val_accuracy: 0.8130\n",
      "Epoch 58/75\n",
      "16/16 [==============================] - 0s 2ms/step - loss: 0.4710 - accuracy: 0.8086 - val_loss: 0.4795 - val_accuracy: 0.8130\n"
     ]
    },
    {
     "name": "stdout",
     "output_type": "stream",
     "text": [
      "Epoch 59/75\n",
      "16/16 [==============================] - 0s 2ms/step - loss: 0.4697 - accuracy: 0.8086 - val_loss: 0.4800 - val_accuracy: 0.8130\n",
      "Epoch 60/75\n",
      "16/16 [==============================] - 0s 2ms/step - loss: 0.4696 - accuracy: 0.8086 - val_loss: 0.4799 - val_accuracy: 0.8130\n",
      "Epoch 61/75\n",
      "16/16 [==============================] - 0s 2ms/step - loss: 0.4693 - accuracy: 0.8086 - val_loss: 0.4783 - val_accuracy: 0.8130\n",
      "Epoch 62/75\n",
      "16/16 [==============================] - 0s 2ms/step - loss: 0.4689 - accuracy: 0.8086 - val_loss: 0.4786 - val_accuracy: 0.8130\n",
      "Epoch 63/75\n",
      "16/16 [==============================] - 0s 2ms/step - loss: 0.4682 - accuracy: 0.8086 - val_loss: 0.4777 - val_accuracy: 0.8130\n",
      "Epoch 64/75\n",
      "16/16 [==============================] - 0s 2ms/step - loss: 0.4681 - accuracy: 0.8086 - val_loss: 0.4783 - val_accuracy: 0.8130\n",
      "Epoch 65/75\n",
      "16/16 [==============================] - 0s 2ms/step - loss: 0.4675 - accuracy: 0.8086 - val_loss: 0.4783 - val_accuracy: 0.8130\n",
      "Epoch 66/75\n",
      "16/16 [==============================] - 0s 2ms/step - loss: 0.4670 - accuracy: 0.8086 - val_loss: 0.4778 - val_accuracy: 0.8130\n",
      "Epoch 67/75\n",
      "16/16 [==============================] - 0s 2ms/step - loss: 0.4671 - accuracy: 0.8086 - val_loss: 0.4768 - val_accuracy: 0.8130\n",
      "Epoch 68/75\n",
      "16/16 [==============================] - 0s 2ms/step - loss: 0.4666 - accuracy: 0.8106 - val_loss: 0.4774 - val_accuracy: 0.8130\n",
      "Epoch 69/75\n",
      "16/16 [==============================] - 0s 2ms/step - loss: 0.4659 - accuracy: 0.8106 - val_loss: 0.4766 - val_accuracy: 0.8130\n",
      "Epoch 70/75\n",
      "16/16 [==============================] - 0s 2ms/step - loss: 0.4661 - accuracy: 0.8106 - val_loss: 0.4768 - val_accuracy: 0.8130\n",
      "Epoch 71/75\n",
      "16/16 [==============================] - 0s 2ms/step - loss: 0.4663 - accuracy: 0.8106 - val_loss: 0.4762 - val_accuracy: 0.8130\n",
      "Epoch 72/75\n",
      "16/16 [==============================] - 0s 2ms/step - loss: 0.4648 - accuracy: 0.8106 - val_loss: 0.4775 - val_accuracy: 0.8130\n",
      "Epoch 73/75\n",
      "16/16 [==============================] - 0s 2ms/step - loss: 0.4648 - accuracy: 0.8106 - val_loss: 0.4768 - val_accuracy: 0.8130\n",
      "Epoch 74/75\n",
      "16/16 [==============================] - 0s 2ms/step - loss: 0.4646 - accuracy: 0.8106 - val_loss: 0.4761 - val_accuracy: 0.8130\n",
      "Epoch 75/75\n",
      "16/16 [==============================] - 0s 2ms/step - loss: 0.4644 - accuracy: 0.8106 - val_loss: 0.4761 - val_accuracy: 0.8130\n"
     ]
    }
   ],
   "source": [
    "model_history = model.fit(X_train, y_train, validation_data=(X_test, y_test), epochs=75)"
   ]
  },
  {
   "cell_type": "code",
   "execution_count": 28,
   "id": "2c47aff6",
   "metadata": {},
   "outputs": [
    {
     "data": {
      "text/plain": [
       "0.8130081300813008"
      ]
     },
     "execution_count": 28,
     "metadata": {},
     "output_type": "execute_result"
    }
   ],
   "source": [
    "# Evaluating model performance\n",
    "pred = model.predict(X_test) > 0.5\n",
    "accuracy_score(y_test, pred)"
   ]
  },
  {
   "cell_type": "code",
   "execution_count": 29,
   "id": "2bb658a9",
   "metadata": {},
   "outputs": [
    {
     "data": {
      "image/png": "[encoded data removed]",
      "text/plain": [
       "<Figure size 432x288 with 1 Axes>"
      ]
     },
     "metadata": {
      "needs_background": "light"
     },
     "output_type": "display_data"
    }
   ],
   "source": [
    "plt.plot(model_history.history['loss'])\n",
    "plt.plot(model_history.history['val_loss'])\n",
    "plt.title('model loss')\n",
    "plt.ylabel('loss')\n",
    "plt.xlabel('epoch')\n",
    "plt.legend(['train', 'validation'], loc='upper left')\n",
    "plt.show()"
   ]
  },
  {
   "cell_type": "code",
   "execution_count": null,
   "id": "c6cc03f5",
   "metadata": {},
   "outputs": [],
   "source": []
  }
 ],
 "metadata": {
  "kernelspec": {
   "display_name": "Python 3",
   "language": "python",
   "name": "python3"
  },
  "language_info": {
   "codemirror_mode": {
    "name": "ipython",
    "version": 3
   },
   "file_extension": ".py",
   "mimetype": "text/x-python",
   "name": "python",
   "nbconvert_exporter": "python",
   "pygments_lexer": "ipython3",
   "version": "3.8.3"
  }
 },
 "nbformat": 4,
 "nbformat_minor": 5
}
