{
 "cells": [
  {
   "cell_type": "code",
   "execution_count": 1,
   "metadata": {},
   "outputs": [],
   "source": [
    "from sklearn.datasets import load_digits"
   ]
  },
  {
   "cell_type": "code",
   "execution_count": 2,
   "metadata": {},
   "outputs": [],
   "source": [
    "import matplotlib.pyplot as plt\n",
    "%matplotlib inline"
   ]
  },
  {
   "cell_type": "code",
   "execution_count": 3,
   "metadata": {},
   "outputs": [],
   "source": [
    "digits = load_digits()"
   ]
  },
  {
   "cell_type": "code",
   "execution_count": 4,
   "metadata": {},
   "outputs": [
    {
     "data": {
      "text/plain": [
       "['DESCR', 'data', 'feature_names', 'frame', 'images', 'target', 'target_names']"
      ]
     },
     "execution_count": 4,
     "metadata": {},
     "output_type": "execute_result"
    }
   ],
   "source": [
    "dir(digits)"
   ]
  },
  {
   "cell_type": "code",
   "execution_count": 5,
   "metadata": {},
   "outputs": [
    {
     "data": {
      "text/plain": [
       "array([ 0.,  0.,  5., 13.,  9.,  1.,  0.,  0.,  0.,  0., 13., 15., 10.,\n",
       "       15.,  5.,  0.,  0.,  3., 15.,  2.,  0., 11.,  8.,  0.,  0.,  4.,\n",
       "       12.,  0.,  0.,  8.,  8.,  0.,  0.,  5.,  8.,  0.,  0.,  9.,  8.,\n",
       "        0.,  0.,  4., 11.,  0.,  1., 12.,  7.,  0.,  0.,  2., 14.,  5.,\n",
       "       10., 12.,  0.,  0.,  0.,  0.,  6., 13., 10.,  0.,  0.,  0.])"
      ]
     },
     "execution_count": 5,
     "metadata": {},
     "output_type": "execute_result"
    }
   ],
   "source": [
    "digits.data[0]"
   ]
  },
  {
   "cell_type": "code",
   "execution_count": 6,
   "metadata": {},
   "outputs": [
    {
     "data": {
      "text/plain": [
       "<Figure size 432x288 with 0 Axes>"
      ]
     },
     "metadata": {},
     "output_type": "display_data"
    },
    {
     "data": {
      "image/png": "[encoded data removed]",
      "text/plain": [
       "<Figure size 288x288 with 1 Axes>"
      ]
     },
     "metadata": {
      "needs_background": "light"
     },
     "output_type": "display_data"
    },
    {
     "data": {
      "image/png": "[encoded data removed]",
      "text/plain": [
       "<Figure size 288x288 with 1 Axes>"
      ]
     },
     "metadata": {
      "needs_background": "light"
     },
     "output_type": "display_data"
    },
    {
     "data": {
      "image/png": "[encoded data removed]",
      "text/plain": [
       "<Figure size 288x288 with 1 Axes>"
      ]
     },
     "metadata": {
      "needs_background": "light"
     },
     "output_type": "display_data"
    },
    {
     "data": {
      "image/png": "[encoded data removed]",
      "text/plain": [
       "<Figure size 288x288 with 1 Axes>"
      ]
     },
     "metadata": {
      "needs_background": "light"
     },
     "output_type": "display_data"
    },
    {
     "data": {
      "image/png": "[encoded data removed]",
      "text/plain": [
       "<Figure size 288x288 with 1 Axes>"
      ]
     },
     "metadata": {
      "needs_background": "light"
     },
     "output_type": "display_data"
    }
   ],
   "source": [
    "plt.gray()\n",
    "for i in range(5):\n",
    "    plt.matshow(digits.images[i])"
   ]
  },
  {
   "cell_type": "code",
   "execution_count": 7,
   "metadata": {},
   "outputs": [
    {
     "data": {
      "text/plain": [
       "array([0, 1, 2, 3, 4])"
      ]
     },
     "execution_count": 7,
     "metadata": {},
     "output_type": "execute_result"
    }
   ],
   "source": [
    "digits.target[0:5]"
   ]
  },
  {
   "cell_type": "code",
   "execution_count": 8,
   "metadata": {},
   "outputs": [],
   "source": [
    "from sklearn.linear_model import LogisticRegression\n",
    "model = LogisticRegression()"
   ]
  },
  {
   "cell_type": "code",
   "execution_count": 9,
   "metadata": {},
   "outputs": [],
   "source": [
    "from sklearn.model_selection import train_test_split\n",
    "X_train, X_test, y_train, y_test = train_test_split(digits.data, digits.target, test_size=0.15)"
   ]
  },
  {
   "cell_type": "code",
   "execution_count": 10,
   "metadata": {},
   "outputs": [
    {
     "data": {
      "text/plain": [
       "array([[ 0.,  0.,  7., ...,  0.,  0.,  0.],\n",
       "       [ 0.,  0.,  0., ..., 14.,  0.,  0.],\n",
       "       [ 0.,  0.,  5., ...,  1.,  0.,  0.],\n",
       "       ...,\n",
       "       [ 0.,  5., 12., ...,  0.,  0.,  0.],\n",
       "       [ 0.,  0.,  2., ..., 11.,  0.,  0.],\n",
       "       [ 0.,  0.,  1., ..., 12.,  4.,  0.]])"
      ]
     },
     "execution_count": 10,
     "metadata": {},
     "output_type": "execute_result"
    }
   ],
   "source": [
    "X_train"
   ]
  },
  {
   "cell_type": "code",
   "execution_count": 11,
   "metadata": {},
   "outputs": [
    {
     "data": {
      "text/plain": [
       "array([5, 1, 0, ..., 5, 1, 6])"
      ]
     },
     "execution_count": 11,
     "metadata": {},
     "output_type": "execute_result"
    }
   ],
   "source": [
    "y_train"
   ]
  },
  {
   "cell_type": "code",
   "execution_count": 12,
   "metadata": {},
   "outputs": [
    {
     "data": {
      "text/plain": [
       "array([5, 5, 5, 2, 8, 9, 2, 8, 4, 5, 0, 3, 1, 6, 8, 9, 9, 3, 1, 2, 5, 0,\n",
       "       5, 8, 5, 7, 2, 0, 4, 2, 1, 6, 1, 5, 4, 9, 7, 1, 0, 7, 6, 9, 4, 4,\n",
       "       7, 3, 2, 3, 6, 4, 7, 0, 2, 0, 8, 2, 2, 1, 8, 5, 1, 4, 7, 0, 1, 4,\n",
       "       8, 7, 1, 3, 9, 6, 1, 0, 7, 3, 6, 3, 0, 4, 7, 5, 8, 6, 8, 5, 5, 5,\n",
       "       5, 5, 5, 1, 7, 4, 2, 4, 5, 5, 1, 8, 1, 6, 9, 8, 0, 0, 9, 2, 6, 7,\n",
       "       0, 4, 3, 7, 2, 8, 7, 9, 5, 0, 9, 8, 2, 2, 6, 9, 2, 2, 3, 2, 1, 1,\n",
       "       9, 6, 3, 9, 5, 6, 0, 8, 5, 2, 5, 3, 5, 9, 8, 2, 0, 9, 6, 4, 3, 6,\n",
       "       2, 6, 7, 9, 4, 1, 2, 7, 1, 9, 8, 9, 3, 4, 6, 7, 6, 8, 5, 3, 7, 2,\n",
       "       6, 4, 7, 5, 2, 6, 0, 0, 5, 9, 4, 5, 7, 6, 4, 6, 7, 1, 4, 9, 9, 3,\n",
       "       5, 6, 0, 5, 3, 2, 4, 4, 9, 3, 7, 0, 7, 1, 9, 5, 7, 1, 4, 9, 0, 4,\n",
       "       4, 2, 6, 8, 9, 9, 1, 6, 5, 3, 7, 7, 0, 1, 9, 4, 9, 5, 5, 1, 1, 9,\n",
       "       3, 4, 4, 6, 4, 7, 3, 6, 2, 3, 7, 5, 5, 0, 8, 0, 3, 0, 7, 4, 9, 5,\n",
       "       6, 1, 7, 4, 9, 3])"
      ]
     },
     "execution_count": 12,
     "metadata": {},
     "output_type": "execute_result"
    }
   ],
   "source": [
    "y_test"
   ]
  },
  {
   "cell_type": "code",
   "execution_count": 13,
   "metadata": {},
   "outputs": [
    {
     "name": "stderr",
     "output_type": "stream",
     "text": [
      "C:\\Users\\admin\\anaconda3\\lib\\site-packages\\sklearn\\linear_model\\_logistic.py:762: ConvergenceWarning: lbfgs failed to converge (status=1):\n",
      "STOP: TOTAL NO. of ITERATIONS REACHED LIMIT.\n",
      "\n",
      "Increase the number of iterations (max_iter) or scale the data as shown in:\n",
      "    https://scikit-learn.org/stable/modules/preprocessing.html\n",
      "Please also refer to the documentation for alternative solver options:\n",
      "    https://scikit-learn.org/stable/modules/linear_model.html#logistic-regression\n",
      "  n_iter_i = _check_optimize_result(\n"
     ]
    },
    {
     "data": {
      "text/plain": [
       "LogisticRegression()"
      ]
     },
     "execution_count": 13,
     "metadata": {},
     "output_type": "execute_result"
    }
   ],
   "source": [
    "model.fit(X_train, y_train)"
   ]
  },
  {
   "cell_type": "code",
   "execution_count": 14,
   "metadata": {},
   "outputs": [
    {
     "data": {
      "text/plain": [
       "array([0, 1, 2, 3, 4])"
      ]
     },
     "execution_count": 14,
     "metadata": {},
     "output_type": "execute_result"
    }
   ],
   "source": [
    "model.predict(digits.data[0:5])"
   ]
  },
  {
   "cell_type": "code",
   "execution_count": 15,
   "metadata": {},
   "outputs": [
    {
     "data": {
      "text/plain": [
       "0.9666666666666667"
      ]
     },
     "execution_count": 15,
     "metadata": {},
     "output_type": "execute_result"
    }
   ],
   "source": [
    "model.score(X_test, y_test)"
   ]
  },
  {
   "cell_type": "code",
   "execution_count": 16,
   "metadata": {},
   "outputs": [
    {
     "data": {
      "text/plain": [
       "<matplotlib.image.AxesImage at 0x2068d17b0d0>"
      ]
     },
     "execution_count": 16,
     "metadata": {},
     "output_type": "execute_result"
    },
    {
     "data": {
      "image/png": "[encoded data removed]",
      "text/plain": [
       "<Figure size 288x288 with 1 Axes>"
      ]
     },
     "metadata": {
      "needs_background": "light"
     },
     "output_type": "display_data"
    }
   ],
   "source": [
    "plt.matshow(digits.images[48])"
   ]
  },
  {
   "cell_type": "code",
   "execution_count": 17,
   "metadata": {},
   "outputs": [
    {
     "data": {
      "text/plain": [
       "0"
      ]
     },
     "execution_count": 17,
     "metadata": {},
     "output_type": "execute_result"
    }
   ],
   "source": [
    "digits.target[48]"
   ]
  },
  {
   "cell_type": "code",
   "execution_count": 18,
   "metadata": {},
   "outputs": [
    {
     "data": {
      "text/plain": [
       "array([0])"
      ]
     },
     "execution_count": 18,
     "metadata": {},
     "output_type": "execute_result"
    }
   ],
   "source": [
    "model.predict([digits.data[48]])"
   ]
  },
  {
   "cell_type": "code",
   "execution_count": 19,
   "metadata": {},
   "outputs": [
    {
     "data": {
      "text/plain": [
       "array([5, 5, 5, 2, 8, 9, 2, 8, 4, 5, 0, 3, 1, 6, 8, 9, 5, 3, 1, 2, 5, 0,\n",
       "       5, 8, 5, 7, 2, 0, 4, 2, 1, 6, 1, 5, 4, 9, 7, 1, 0, 7, 6, 9, 4, 4,\n",
       "       7, 3, 2, 3, 6, 4, 7, 0, 2, 0, 1, 2, 2, 1, 8, 5, 1, 4, 7, 0, 1, 4,\n",
       "       8, 7, 1, 3, 9, 6, 1, 0, 7, 3, 6, 3, 0, 4, 7, 5, 8, 6, 8, 5, 5, 5,\n",
       "       5, 5, 5, 1, 7, 4, 2, 4, 5, 5, 1, 4, 1, 6, 9, 8, 0, 0, 9, 2, 6, 7,\n",
       "       1, 4, 3, 7, 2, 8, 7, 9, 5, 0, 9, 8, 2, 2, 6, 9, 2, 2, 3, 1, 1, 1,\n",
       "       9, 6, 3, 9, 9, 6, 0, 8, 5, 2, 5, 3, 5, 9, 8, 2, 0, 9, 6, 4, 3, 6,\n",
       "       2, 6, 7, 9, 4, 1, 2, 7, 1, 9, 1, 9, 3, 4, 6, 7, 6, 8, 5, 3, 7, 2,\n",
       "       6, 4, 7, 5, 2, 6, 0, 0, 5, 9, 4, 5, 7, 6, 4, 6, 7, 1, 4, 9, 9, 3,\n",
       "       5, 6, 0, 5, 3, 2, 4, 4, 9, 3, 7, 0, 7, 1, 9, 5, 7, 1, 4, 9, 0, 4,\n",
       "       4, 2, 6, 8, 9, 9, 1, 5, 5, 3, 7, 7, 0, 1, 9, 4, 9, 5, 5, 1, 1, 9,\n",
       "       3, 4, 4, 6, 4, 7, 3, 6, 2, 3, 7, 5, 5, 0, 8, 0, 3, 0, 7, 4, 9, 9,\n",
       "       6, 1, 7, 4, 9, 3])"
      ]
     },
     "execution_count": 19,
     "metadata": {},
     "output_type": "execute_result"
    }
   ],
   "source": [
    "y_pred = model.predict(X_test)\n",
    "y_pred"
   ]
  },
  {
   "cell_type": "code",
   "execution_count": 20,
   "metadata": {},
   "outputs": [
    {
     "data": {
      "text/plain": [
       "array([[23,  1,  0,  0,  0,  0,  0,  0,  0,  0],\n",
       "       [ 0, 25,  0,  0,  0,  0,  0,  0,  0,  0],\n",
       "       [ 0,  1, 25,  0,  0,  0,  0,  0,  0,  0],\n",
       "       [ 0,  0,  0, 23,  0,  0,  0,  0,  0,  0],\n",
       "       [ 0,  0,  0,  0, 30,  0,  0,  0,  0,  0],\n",
       "       [ 0,  0,  0,  0,  0, 34,  0,  0,  0,  2],\n",
       "       [ 0,  0,  0,  0,  0,  1, 26,  0,  0,  0],\n",
       "       [ 0,  0,  0,  0,  0,  0,  0, 29,  0,  0],\n",
       "       [ 0,  2,  0,  0,  1,  0,  0,  0, 16,  0],\n",
       "       [ 0,  0,  0,  0,  0,  1,  0,  0,  0, 30]], dtype=int64)"
      ]
     },
     "execution_count": 20,
     "metadata": {},
     "output_type": "execute_result"
    }
   ],
   "source": [
    "from sklearn.metrics import confusion_matrix\n",
    "cm = confusion_matrix(y_test, y_pred)\n",
    "cm"
   ]
  },
  {
   "cell_type": "code",
   "execution_count": 21,
   "metadata": {},
   "outputs": [
    {
     "data": {
      "text/plain": [
       "Text(69.0, 0.5, 'Truth')"
      ]
     },
     "execution_count": 21,
     "metadata": {},
     "output_type": "execute_result"
    },
    {
     "data": {
      "image/png": "[encoded data removed]",
      "text/plain": [
       "<Figure size 720x504 with 2 Axes>"
      ]
     },
     "metadata": {
      "needs_background": "light"
     },
     "output_type": "display_data"
    }
   ],
   "source": [
    "import seaborn as sn\n",
    "plt.figure(figsize=(10,7))\n",
    "sn.heatmap(cm, annot=True)\n",
    "plt.xlabel('Predicted')\n",
    "plt.ylabel('Truth')"
   ]
  },
  {
   "cell_type": "code",
   "execution_count": null,
   "metadata": {},
   "outputs": [],
   "source": []
  }
 ],
 "metadata": {
  "kernelspec": {
   "display_name": "Python 3",
   "language": "python",
   "name": "python3"
  },
  "language_info": {
   "codemirror_mode": {
    "name": "ipython",
    "version": 3
   },
   "file_extension": ".py",
   "mimetype": "text/x-python",
   "name": "python",
   "nbconvert_exporter": "python",
   "pygments_lexer": "ipython3",
   "version": "3.8.3"
  }
 },
 "nbformat": 4,
 "nbformat_minor": 4
}
